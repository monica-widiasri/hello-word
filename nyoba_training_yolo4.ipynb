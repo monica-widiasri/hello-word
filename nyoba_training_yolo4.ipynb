{
  "nbformat": 4,
  "nbformat_minor": 0,
  "metadata": {
    "colab": {
      "name": "nyoba training yolo4.ipynb",
      "provenance": [],
      "authorship_tag": "ABX9TyMwinS2MpXAG3602XrKUGb6",
      "include_colab_link": true
    },
    "kernelspec": {
      "name": "python3",
      "display_name": "Python 3"
    },
    "accelerator": "GPU"
  },
  "cells": [
    {
      "cell_type": "markdown",
      "metadata": {
        "id": "view-in-github",
        "colab_type": "text"
      },
      "source": [
        "<a href=\"https://colab.research.google.com/github/monica-widiasri/hello-word/blob/master/nyoba_training_yolo4.ipynb\" target=\"_parent\"><img src=\"https://colab.research.google.com/assets/colab-badge.svg\" alt=\"Open In Colab\"/></a>"
      ]
    },
    {
      "cell_type": "code",
      "metadata": {
        "id": "IrjkYwNWkBTJ",
        "colab_type": "code",
        "colab": {
          "base_uri": "https://localhost:8080/",
          "height": 102
        },
        "outputId": "ce4e797f-04bc-48cc-cef2-9a99f4c7cbb5"
      },
      "source": [
        "!git clone https://github.com/theAIGuysCode/OIDv4_ToolKit"
      ],
      "execution_count": 1,
      "outputs": [
        {
          "output_type": "stream",
          "text": [
            "Cloning into 'OIDv4_ToolKit'...\n",
            "remote: Enumerating objects: 444, done.\u001b[K\n",
            "remote: Total 444 (delta 0), reused 0 (delta 0), pack-reused 444\u001b[K\n",
            "Receiving objects: 100% (444/444), 34.09 MiB | 41.56 MiB/s, done.\n",
            "Resolving deltas: 100% (157/157), done.\n"
          ],
          "name": "stdout"
        }
      ]
    },
    {
      "cell_type": "code",
      "metadata": {
        "id": "WbfWgfAfmllh",
        "colab_type": "code",
        "colab": {}
      },
      "source": [
        "mypath = '/content/OIDv4_ToolKit/'"
      ],
      "execution_count": 2,
      "outputs": []
    },
    {
      "cell_type": "code",
      "metadata": {
        "id": "ifvTN04UkwKb",
        "colab_type": "code",
        "colab": {
          "base_uri": "https://localhost:8080/",
          "height": 649
        },
        "outputId": "cbef3ff6-3c89-416b-bf38-fd4e5f9f140a"
      },
      "source": [
        "!pip3 install -r '/content/OIDv4_ToolKit/requirements.txt'\n",
        "#!python convert_annotations.py"
      ],
      "execution_count": 3,
      "outputs": [
        {
          "output_type": "stream",
          "text": [
            "Requirement already satisfied: pandas in /usr/local/lib/python3.6/dist-packages (from -r /content/OIDv4_ToolKit/requirements.txt (line 1)) (1.0.5)\n",
            "Requirement already satisfied: numpy in /usr/local/lib/python3.6/dist-packages (from -r /content/OIDv4_ToolKit/requirements.txt (line 2)) (1.18.5)\n",
            "Collecting awscli\n",
            "\u001b[?25l  Downloading https://files.pythonhosted.org/packages/bf/1d/96585d13f3a8306f913e7be012781a4605a44edc1fd03ea796f6f979369e/awscli-1.18.121.tar.gz (1.3MB)\n",
            "\u001b[K     |████████████████████████████████| 1.3MB 4.5MB/s \n",
            "\u001b[?25hRequirement already satisfied: urllib3 in /usr/local/lib/python3.6/dist-packages (from -r /content/OIDv4_ToolKit/requirements.txt (line 4)) (1.24.3)\n",
            "Requirement already satisfied: tqdm in /usr/local/lib/python3.6/dist-packages (from -r /content/OIDv4_ToolKit/requirements.txt (line 5)) (4.41.1)\n",
            "Requirement already satisfied: opencv-python in /usr/local/lib/python3.6/dist-packages (from -r /content/OIDv4_ToolKit/requirements.txt (line 6)) (4.1.2.30)\n",
            "Requirement already satisfied: pytz>=2017.2 in /usr/local/lib/python3.6/dist-packages (from pandas->-r /content/OIDv4_ToolKit/requirements.txt (line 1)) (2018.9)\n",
            "Requirement already satisfied: python-dateutil>=2.6.1 in /usr/local/lib/python3.6/dist-packages (from pandas->-r /content/OIDv4_ToolKit/requirements.txt (line 1)) (2.8.1)\n",
            "Collecting botocore==1.17.44\n",
            "\u001b[?25l  Downloading https://files.pythonhosted.org/packages/1e/6a/b6490235c01c941a24a86235e2a641e9505cf0ce4b4968d4987573d92bec/botocore-1.17.44-py2.py3-none-any.whl (6.5MB)\n",
            "\u001b[K     |████████████████████████████████| 6.5MB 28.8MB/s \n",
            "\u001b[?25hRequirement already satisfied: docutils<0.16,>=0.10 in /usr/local/lib/python3.6/dist-packages (from awscli->-r /content/OIDv4_ToolKit/requirements.txt (line 3)) (0.15.2)\n",
            "Requirement already satisfied: s3transfer<0.4.0,>=0.3.0 in /usr/local/lib/python3.6/dist-packages (from awscli->-r /content/OIDv4_ToolKit/requirements.txt (line 3)) (0.3.3)\n",
            "Requirement already satisfied: PyYAML<5.4,>=3.10 in /usr/local/lib/python3.6/dist-packages (from awscli->-r /content/OIDv4_ToolKit/requirements.txt (line 3)) (3.13)\n",
            "Collecting colorama<0.4.4,>=0.2.5\n",
            "  Downloading https://files.pythonhosted.org/packages/c9/dc/45cdef1b4d119eb96316b3117e6d5708a08029992b2fee2c143c7a0a5cc5/colorama-0.4.3-py2.py3-none-any.whl\n",
            "Collecting rsa<=4.5.0,>=3.1.2\n",
            "  Downloading https://files.pythonhosted.org/packages/26/f8/8127fdda0294f044121d20aac7785feb810e159098447967a6103dedfb96/rsa-4.5-py2.py3-none-any.whl\n",
            "Requirement already satisfied: six>=1.5 in /usr/local/lib/python3.6/dist-packages (from python-dateutil>=2.6.1->pandas->-r /content/OIDv4_ToolKit/requirements.txt (line 1)) (1.15.0)\n",
            "Requirement already satisfied: jmespath<1.0.0,>=0.7.1 in /usr/local/lib/python3.6/dist-packages (from botocore==1.17.44->awscli->-r /content/OIDv4_ToolKit/requirements.txt (line 3)) (0.10.0)\n",
            "Requirement already satisfied: pyasn1>=0.1.3 in /usr/local/lib/python3.6/dist-packages (from rsa<=4.5.0,>=3.1.2->awscli->-r /content/OIDv4_ToolKit/requirements.txt (line 3)) (0.4.8)\n",
            "Building wheels for collected packages: awscli\n",
            "  Building wheel for awscli (setup.py) ... \u001b[?25l\u001b[?25hdone\n",
            "  Created wheel for awscli: filename=awscli-1.18.121-py2.py3-none-any.whl size=3302949 sha256=39a707200f04fe8c4cfe33cc6cf62ce65418f0fb68bcf506aaf027ab8140ae83\n",
            "  Stored in directory: /root/.cache/pip/wheels/5d/37/fe/c82716ec1c8874f453a958530d71b743d8007a582d516c8552\n",
            "Successfully built awscli\n",
            "Installing collected packages: botocore, colorama, rsa, awscli\n",
            "  Found existing installation: botocore 1.17.37\n",
            "    Uninstalling botocore-1.17.37:\n",
            "      Successfully uninstalled botocore-1.17.37\n",
            "  Found existing installation: rsa 4.6\n",
            "    Uninstalling rsa-4.6:\n",
            "      Successfully uninstalled rsa-4.6\n",
            "Successfully installed awscli-1.18.121 botocore-1.17.44 colorama-0.4.3 rsa-4.5\n"
          ],
          "name": "stdout"
        }
      ]
    },
    {
      "cell_type": "code",
      "metadata": {
        "id": "-0LZKPdLnMAs",
        "colab_type": "code",
        "colab": {
          "base_uri": "https://localhost:8080/",
          "height": 629
        },
        "outputId": "fc326ec7-c4d8-4017-9091-71897bdc5b6c"
      },
      "source": [
        "!python '/content/OIDv4_ToolKit/main.py' downloader --classes 'Apple' --type_csv train --limit 70"
      ],
      "execution_count": 4,
      "outputs": [
        {
          "output_type": "stream",
          "text": [
            "\u001b[92m\n",
            "\t\t   ___   _____  ______            _    _    \n",
            "\t\t .'   `.|_   _||_   _ `.         | |  | |   \n",
            "\t\t/  .-.  \\ | |    | | `. \\ _   __ | |__| |_  \n",
            "\t\t| |   | | | |    | |  | |[ \\ [  ]|____   _| \n",
            "\t\t\\  `-'  /_| |_  _| |_.' / \\ \\/ /     _| |_  \n",
            "\t\t `.___.'|_____||______.'   \\__/     |_____|\n",
            "\t\u001b[0m\n",
            "\u001b[92m\n",
            "             _____                    _                 _             \n",
            "            (____ \\                  | |               | |            \n",
            "             _   \\ \\ ___  _ _ _ ____ | | ___   ____  _ | | ____  ____ \n",
            "            | |   | / _ \\| | | |  _ \\| |/ _ \\ / _  |/ || |/ _  )/ ___)\n",
            "            | |__/ / |_| | | | | | | | | |_| ( ( | ( (_| ( (/ /| |    \n",
            "            |_____/ \\___/ \\____|_| |_|_|\\___/ \\_||_|\\____|\\____)_|    \n",
            "                                                          \n",
            "        \u001b[0m\n",
            "    [INFO] | Downloading Apple.\u001b[0m\n",
            "\u001b[91m   [ERROR] | Missing the class-descriptions-boxable.csv file.\u001b[0m\n",
            "\u001b[94m[DOWNLOAD] | Do you want to download the missing file? [Y/n] \u001b[0mY\n",
            "...145%, 0 MB, 51226 KB/s, 0 seconds passed\n",
            "\u001b[94m[DOWNLOAD] | File class-descriptions-boxable.csv downloaded into OID/csv_folder/class-descriptions-boxable.csv.\u001b[0m\n",
            "\u001b[91m   [ERROR] | Missing the train-annotations-bbox.csv file.\u001b[0m\n",
            "\u001b[94m[DOWNLOAD] | Do you want to download the missing file? [Y/n] \u001b[0mY\n",
            "...100%, 1138 MB, 39955 KB/s, 29 seconds passed\n",
            "\u001b[94m[DOWNLOAD] | File train-annotations-bbox.csv downloaded into OID/csv_folder/train-annotations-bbox.csv.\u001b[0m\n",
            "\n",
            "\u001b[95mApple\u001b[0m\n",
            "    [INFO] | Downloading train images.\u001b[0m\n",
            "    [INFO] | [INFO] Found 1078 online images for train.\u001b[0m\n",
            "    [INFO] | Limiting to 70 images.\u001b[0m\n",
            "    [INFO] | Download of 70 images in train.\u001b[0m\n",
            "100% 70/70 [00:43<00:00,  1.60it/s]\n",
            "    [INFO] | Done!\u001b[0m\n",
            "    [INFO] | Creating labels for Apple of train.\u001b[0m\n",
            "    [INFO] | Labels creation completed.\u001b[0m\n"
          ],
          "name": "stdout"
        }
      ]
    },
    {
      "cell_type": "code",
      "metadata": {
        "id": "X_g2yN3bpxw6",
        "colab_type": "code",
        "colab": {
          "base_uri": "https://localhost:8080/",
          "height": 369
        },
        "outputId": "f7a0df1f-450b-405f-bc10-776e389153c5"
      },
      "source": [
        "!python '/content/OIDv4_ToolKit/main.py' downloader --classes 'Apple' --type_csv validation --limit 30"
      ],
      "execution_count": null,
      "outputs": [
        {
          "output_type": "stream",
          "text": [
            "\u001b[92m\n",
            "\t\t   ___   _____  ______            _    _    \n",
            "\t\t .'   `.|_   _||_   _ `.         | |  | |   \n",
            "\t\t/  .-.  \\ | |    | | `. \\ _   __ | |__| |_  \n",
            "\t\t| |   | | | |    | |  | |[ \\ [  ]|____   _| \n",
            "\t\t\\  `-'  /_| |_  _| |_.' / \\ \\/ /     _| |_  \n",
            "\t\t `.___.'|_____||______.'   \\__/     |_____|\n",
            "\t\u001b[0m\n",
            "\u001b[92m\n",
            "             _____                    _                 _             \n",
            "            (____ \\                  | |               | |            \n",
            "             _   \\ \\ ___  _ _ _ ____ | | ___   ____  _ | | ____  ____ \n",
            "            | |   | / _ \\| | | |  _ \\| |/ _ \\ / _  |/ || |/ _  )/ ___)\n",
            "            | |__/ / |_| | | | | | | | | |_| ( ( | ( (_| ( (/ /| |    \n",
            "            |_____/ \\___/ \\____|_| |_|_|\\___/ \\_||_|\\____|\\____)_|    \n",
            "                                                          \n",
            "        \u001b[0m\n",
            "    [INFO] | Downloading Apple.\u001b[0m\n",
            "\u001b[91m   [ERROR] | Missing the validation-annotations-bbox.csv file.\u001b[0m\n",
            "\u001b[94m[DOWNLOAD] | Do you want to download the missing file? [Y/n] \u001b[0m"
          ],
          "name": "stdout"
        }
      ]
    },
    {
      "cell_type": "code",
      "metadata": {
        "id": "AT877NiWxF8i",
        "colab_type": "code",
        "colab": {
          "base_uri": "https://localhost:8080/",
          "height": 34
        },
        "outputId": "bd007e2a-e2a1-45c1-e0a8-0e61696615cf"
      },
      "source": [
        "cd content/"
      ],
      "execution_count": 13,
      "outputs": [
        {
          "output_type": "stream",
          "text": [
            "/content\n"
          ],
          "name": "stdout"
        }
      ]
    },
    {
      "cell_type": "code",
      "metadata": {
        "id": "C86Wfm26qx0F",
        "colab_type": "code",
        "colab": {
          "base_uri": "https://localhost:8080/",
          "height": 119
        },
        "outputId": "d808873a-50b0-49f5-867b-b8d6d9d33cee"
      },
      "source": [
        "!python ./OIDv4_ToolKit/convert_annotations.py"
      ],
      "execution_count": 15,
      "outputs": [
        {
          "output_type": "stream",
          "text": [
            "Currently in subdirectory: validation\n",
            "Converting annotations for class:  Apple\n",
            "100% 30/30 [00:01<00:00, 28.10it/s]\n",
            "Currently in subdirectory: train\n",
            "Converting annotations for class:  Apple\n",
            "100% 70/70 [00:02<00:00, 25.76it/s]\n"
          ],
          "name": "stdout"
        }
      ]
    },
    {
      "cell_type": "code",
      "metadata": {
        "id": "AcBl3RbpzL4J",
        "colab_type": "code",
        "colab": {
          "base_uri": "https://localhost:8080/",
          "height": 35
        },
        "outputId": "a59bfba6-6b23-452e-be55-9971d5ff0f76"
      },
      "source": [
        "!clone git https://github.com/theAIGuysCode/YOLOv4-Cloud-Tutorial"
      ],
      "execution_count": null,
      "outputs": [
        {
          "output_type": "stream",
          "text": [
            "/bin/bash: clone: command not found\n"
          ],
          "name": "stdout"
        }
      ]
    },
    {
      "cell_type": "code",
      "metadata": {
        "id": "ksncqVYb9QNV",
        "colab_type": "code",
        "colab": {
          "base_uri": "https://localhost:8080/",
          "height": 107
        },
        "outputId": "881e9df2-71f1-4b0a-d1e6-bff294c6e6b0"
      },
      "source": [
        "!python /content/YOLOv4-Cloud-Tutorial/yolov4/generate_train.py"
      ],
      "execution_count": null,
      "outputs": [
        {
          "output_type": "stream",
          "text": [
            "Traceback (most recent call last):\n",
            "  File \"/content/YOLOv4-Cloud-Tutorial/yolov4/generate_train.py\", line 4, in <module>\n",
            "    os.chdir(os.path.join(\"data\", \"obj\"))\n",
            "FileNotFoundError: [Errno 2] No such file or directory: 'data/obj'\n"
          ],
          "name": "stdout"
        }
      ]
    }
  ]
}